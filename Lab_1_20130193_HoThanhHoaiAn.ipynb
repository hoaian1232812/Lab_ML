{
  "nbformat": 4,
  "nbformat_minor": 0,
  "metadata": {
    "colab": {
      "provenance": [],
      "authorship_tag": "ABX9TyP9UZfDfWXyo+3ZnihLt2uF",
      "include_colab_link": true
    },
    "kernelspec": {
      "name": "python3",
      "display_name": "Python 3"
    },
    "language_info": {
      "name": "python"
    }
  },
  "cells": [
    {
      "cell_type": "markdown",
      "metadata": {
        "id": "view-in-github",
        "colab_type": "text"
      },
      "source": [
        "<a href=\"https://colab.research.google.com/github/hoaian1232812/Lab_ML/blob/main/Lab_1_20130193_HoThanhHoaiAn.ipynb\" target=\"_parent\"><img src=\"https://colab.research.google.com/assets/colab-badge.svg\" alt=\"Open In Colab\"/></a>"
      ]
    },
    {
      "cell_type": "code",
      "execution_count": 1,
      "metadata": {
        "colab": {
          "base_uri": "https://localhost:8080/"
        },
        "id": "rU_rn0538Ert",
        "outputId": "a1560e3b-9da7-4541-d75c-4db67a0b2b71"
      },
      "outputs": [
        {
          "output_type": "stream",
          "name": "stdout",
          "text": [
            "Mounted at /content/gdrive\n",
            "/content/gdrive/MyDrive/Lab_ML\n"
          ]
        }
      ],
      "source": [
        "from google.colab import drive\n",
        "drive.mount('/content/gdrive')\n",
        "%cd '/content/gdrive/MyDrive/Lab_ML'"
      ]
    },
    {
      "cell_type": "code",
      "source": [
        "#Task1\n",
        "#1.1\n",
        "n = int(input('n ='))\n",
        "i = 0\n",
        "l = []\n",
        "while i < n:\n",
        "    x = int(input('x'+str(i)+'='))\n",
        "    l.append(x)\n",
        "    i+=1\n",
        "\n",
        "print(l)\n",
        "print('Số lớn nhất trong l là:',max(l))\n",
        "print('Số nhỏ nhất trong l là:', min(l))\n",
        "print('Tổng giá trị trong l là:', sum(l))\n",
        "l.sort()\n",
        "print('Sắp xếp tăng dần:', l)\n",
        "l.sort(reverse=True)\n",
        "print('Sắp xếp giảm dần:', l)\n",
        "positive = 0;\n",
        "negative = 0\n",
        "for nums in l:\n",
        "    if(nums > 0):\n",
        "        positive += 1\n",
        "    elif(nums < 0):\n",
        "        negative +=1\n",
        "    else:\n",
        "        continue\n",
        "print('Số dương trong l là:', positive)\n",
        "print('Số âm trong l là:', negative)"
      ],
      "metadata": {
        "colab": {
          "base_uri": "https://localhost:8080/"
        },
        "id": "a7iyKiz18XpQ",
        "outputId": "14b163c7-6a09-44d9-c397-a710df549e62"
      },
      "execution_count": 4,
      "outputs": [
        {
          "output_type": "stream",
          "name": "stdout",
          "text": [
            "n =5\n",
            "x0=-5\n",
            "x1=2\n",
            "x2=0\n",
            "x3=6\n",
            "x4=8\n",
            "[-5, 2, 0, 6, 8]\n",
            "Số lớn nhất trong l là: 8\n",
            "Số nhỏ nhất trong l là: -5\n",
            "Tổng giá trị trong l là: 11\n",
            "Sắp xếp tăng dần: [-5, 0, 2, 6, 8]\n",
            "Sắp xếp giảm dần: [8, 6, 2, 0, -5]\n",
            "Số dương trong l là: 3\n",
            "Số âm trong l là: 1\n"
          ]
        }
      ]
    },
    {
      "cell_type": "code",
      "source": [
        "#1.2\n",
        "def totalS(n):\n",
        "    if(n == 0):\n",
        "        return 1\n",
        "    return (1/((2*n)+1)) + totalS(n-1)\n",
        "\n",
        "print(totalS(3))"
      ],
      "metadata": {
        "colab": {
          "base_uri": "https://localhost:8080/"
        },
        "id": "6RnUpnep9leD",
        "outputId": "dc3db80d-0ea0-49a0-9bd6-799329c969f6"
      },
      "execution_count": 5,
      "outputs": [
        {
          "output_type": "stream",
          "name": "stdout",
          "text": [
            "1.676190476190476\n"
          ]
        }
      ]
    },
    {
      "cell_type": "code",
      "source": [
        "#1.3\n",
        "from abc import ABC, abstractmethod\n",
        "from datetime import datetime\n",
        "\n",
        "class OrderManger:\n",
        "    def __init__(self, orders):\n",
        "        self.__orders = orders\n",
        "\n",
        "    def getProductMaxPrice(self):\n",
        "        maxProduct = self.__orders[0].maxPriceItem()\n",
        "        for order in self.__orders:\n",
        "            if(maxProduct.priceProduct() < order.maxPriceItem().priceProduct()):\n",
        "                maxProduct = order.maxPriceItem()\n",
        "        return maxProduct\n",
        "\n",
        "    def statisticTypeProductOrder(self):\n",
        "        result = {}\n",
        "        for order in self.__orders:\n",
        "            statisticsType = order.statisticTypeProduct()\n",
        "            for type in statisticsType:\n",
        "                amount = statisticsType[type]\n",
        "                if(type in result):\n",
        "                    amount += result[type]\n",
        "                result[type] = amount\n",
        "        return result\n",
        "\n",
        "class Order:\n",
        "    def __init__(self, id, customer, employee, date, items):\n",
        "        self.__id = id\n",
        "        self.__customer = customer\n",
        "        self.__employee = employee\n",
        "        self.__date = date\n",
        "        self.__items = items\n",
        "\n",
        "    def maxPriceItem(self):\n",
        "        self.__items.sort(key=lambda item:item.priceProduct(),reverse=True)\n",
        "        return self.__items[0]\n",
        "\n",
        "    def statisticTypeProduct(self):\n",
        "        dict = {}\n",
        "        for item in self.__items:\n",
        "            amount = item.getAmount()\n",
        "            if(item.kindItem() in dict):\n",
        "                amount += dict[item.kindItem()]\n",
        "            dict[item.kindItem()] = amount\n",
        "        return dict\n",
        "\n",
        "class Product(ABC):\n",
        "    def __init__(self, name, kind, price, expired):\n",
        "        self._name = name\n",
        "        self._kind = kind\n",
        "        self._price = price\n",
        "        self._expired = expired\n",
        "\n",
        "    def getPrice(self):\n",
        "        return self._price\n",
        "\n",
        "    def getType(self):\n",
        "        return self._kind\n",
        "\n",
        "class OrderItem:\n",
        "    def __init__(self, item, amount):\n",
        "        self.__item = item\n",
        "        self.__amount = amount\n",
        "\n",
        "    def priceProduct(self):\n",
        "       return self.__item.getPrice() * self.__amount\n",
        "\n",
        "    def kindItem(self):\n",
        "        return self.__item.getType()\n",
        "\n",
        "    def getAmount(self):\n",
        "        return self.__amount\n",
        "\n",
        "    def __repr__(self):\n",
        "        return str(self.__item) + ', ' + str(self.__amount)\n",
        "\n",
        "\n",
        "class ImportedProduct(Product):\n",
        "    def __init__(self, name, kind, price, expired, fromCountry):\n",
        "        super().__init__(name, kind, price, expired)\n",
        "        self.__fromCountry = fromCountry\n",
        "\n",
        "    def __repr__(self):\n",
        "        return self._name + \" \" + self._kind + \" \" + str(self._price) + \" \" + str(self._expired) + \" \" + self.__fromCountry\n",
        "\n",
        "\n",
        "class DomesticProduct(Product):\n",
        "    def __init__(self, name, kind, price, expired):\n",
        "        super().__init__(name, kind, price, expired)\n",
        "\n",
        "    def __repr__(self):\n",
        "        return self._name + \" \" + self._kind + \" \" + str(self._price) + \" \" + str(self._expired)\n",
        "\n",
        "\n",
        "if __name__ == '__main__':\n",
        "    p1 = ImportedProduct(\"coca\", \"nuoc\", 10000, datetime(2023,2,14), 'My')\n",
        "    p2 = ImportedProduct(\"pepsi\", \"nuoc\", 50000,  datetime(2023,2,14), 'My')\n",
        "    p3 = DomesticProduct(\"banh osi\", \"banh\", 9000, datetime(2023,2,14))\n",
        "    p4 = DomesticProduct(\"keo dua\", \"keo\", 40000,  datetime(2023,2,14))\n",
        "\n",
        "    o1 = OrderItem(p1, 3)\n",
        "    o2 = OrderItem(p2, 4)\n",
        "    o3 = OrderItem(p3, 4)\n",
        "    o4 = OrderItem(p4, 4)\n",
        "\n",
        "    list1 = [o1,o3]\n",
        "    list2 = [o2,o4]\n",
        "    order1 = Order('1','An','012', datetime(2023,3,14),list1)\n",
        "    order2 = Order('2', 'Phu','012', datetime(2023,3,14),list2)\n",
        "    orders = [order1,order2]\n",
        "    ordermanager = OrderManger(orders)\n",
        "    print(ordermanager.getProductMaxPrice())\n",
        "    print(ordermanager.statisticTypeProductOrder())\n"
      ],
      "metadata": {
        "colab": {
          "base_uri": "https://localhost:8080/"
        },
        "id": "1KUsrwwb9wGM",
        "outputId": "c27943a9-7dd6-4cdb-bbf4-9995f1d2294f"
      },
      "execution_count": 6,
      "outputs": [
        {
          "output_type": "stream",
          "name": "stdout",
          "text": [
            "pepsi nuoc 50000 2023-02-14 00:00:00 My, 4\n",
            "{'banh': 4, 'nuoc': 7, 'keo': 4}\n"
          ]
        }
      ]
    },
    {
      "cell_type": "code",
      "source": [
        "#Task2\n",
        "import numpy as np\n",
        "#2.1\n",
        "def createArrayRange10To25():\n",
        "    return np.arange(10, 26)[::-1]\n",
        "\n",
        "#2.2\n",
        "def constructArray(array, n):\n",
        "    result = np.copy(array)\n",
        "    for i in range(n - 1):\n",
        "        result = np.concatenate((result, array))\n",
        "    return result\n",
        "\n",
        "# 2.3\n",
        "def replaceElementGreater(array, x):\n",
        "    for i in array:\n",
        "        for j in range(len(i)):\n",
        "            if(i[j] > x):\n",
        "                i[j] = x\n",
        "    return array\n",
        "\n",
        "if __name__ == '__main__':\n",
        "    print('1.1:',createArrayRange10To25(),'\\n')\n",
        "\n",
        "    print('1.2:',constructArray(np.array([1,2,3,4]),3),'\\n')\n",
        "\n",
        "    test = np.array([[ 0.42, 0.48, 0.32],\n",
        "            [ 0.74, 0.58, 0.38],\n",
        "            [ 0.51, 0.34, 0.15]])\n",
        "    print('1.3:',replaceElementGreater(test, 0.5))"
      ],
      "metadata": {
        "colab": {
          "base_uri": "https://localhost:8080/"
        },
        "id": "QyKLvt9C-GFK",
        "outputId": "92c12a3a-06ef-4c81-91c8-93df03dbeb22"
      },
      "execution_count": 10,
      "outputs": [
        {
          "output_type": "stream",
          "name": "stdout",
          "text": [
            "1.1: [25 24 23 22 21 20 19 18 17 16 15 14 13 12 11 10] \n",
            "\n",
            "1.2: [1 2 3 4 1 2 3 4 1 2 3 4] \n",
            "\n",
            "1.3: [[0.42 0.48 0.32]\n",
            " [0.5  0.5  0.38]\n",
            " [0.5  0.34 0.15]]\n"
          ]
        }
      ]
    }
  ]
}